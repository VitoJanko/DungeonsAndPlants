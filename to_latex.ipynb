{
 "cells": [
  {
   "cell_type": "code",
   "execution_count": 1,
   "id": "afe4bdc9-c3e5-4ac6-b7f6-7e78428a65fa",
   "metadata": {},
   "outputs": [],
   "source": [
    "import pandas as pd"
   ]
  },
  {
   "cell_type": "code",
   "execution_count": 113,
   "id": "a0ff0200-3506-4b8d-8bd5-64dc3f40b53b",
   "metadata": {},
   "outputs": [],
   "source": [
    "plants = pd.read_csv(\"plant_list.csv\", sep=\";\")\n",
    "plants = plants.where(pd.notnull(plants), None)"
   ]
  },
  {
   "cell_type": "code",
   "execution_count": 114,
   "id": "64a41315-dc2c-4bde-8ca4-ccf9a1c2f6f2",
   "metadata": {},
   "outputs": [],
   "source": [
    "plants.Event = plants.Event.apply(lambda x: x.strip() if type(x)==str else x)\n",
    "plants.Event = plants.Event.apply(lambda x: None if type(x)==str and len(x)==0 else x)"
   ]
  },
  {
   "cell_type": "code",
   "execution_count": 115,
   "id": "cb2e5a36-50b7-43a2-a8fe-1ee0afe599b0",
   "metadata": {},
   "outputs": [],
   "source": [
    "def format_text(cond):\n",
    "    if cond is None:\n",
    "        return cond\n",
    "    cond = cond.strip()\n",
    "    if len(cond)==0:\n",
    "        return cond\n",
    "    cond = list(cond)\n",
    "    if cond[-1]==\".\":\n",
    "        cond[-1]=\":\"\n",
    "    else:\n",
    "        cond +=[\":\"]\n",
    "    cond = \"\".join(cond)\n",
    "    cond = cond.replace(\".\",\",\")\n",
    "    cons = cond.replace(\":\",\"\")\n",
    "    return cond"
   ]
  },
  {
   "cell_type": "code",
   "execution_count": 116,
   "id": "315dac65-f741-4458-a1e1-31aa38fd6da8",
   "metadata": {},
   "outputs": [],
   "source": [
    "plants[\"t2a\"] = plants[\"t2a\"].apply(format_text)\n",
    "plants[\"t1a\"] = plants[\"t1a\"].apply(format_text)"
   ]
  },
  {
   "cell_type": "code",
   "execution_count": 117,
   "id": "25981ca4-d586-4806-a46a-6131c16a28f9",
   "metadata": {},
   "outputs": [],
   "source": [
    "profs = plants.Profficiency.unique()"
   ]
  },
  {
   "cell_type": "code",
   "execution_count": 118,
   "id": "62085c1e-6eb7-41f2-ad31-c9e3999ee355",
   "metadata": {},
   "outputs": [],
   "source": [
    "\n",
    "f = open(\"plants_latex.txt\", \"w\")\n",
    "for prof in profs:\n",
    "    f.write(f\"\\\\section{{Proficiency +{prof}}}\" + \"\\n\")\n",
    "    f.write(\"\\n\")\n",
    "    f.write(\"\\n\")\n",
    "    section = plants[plants.Profficiency==prof]\n",
    "    for i, plant in section.iterrows():\n",
    "        f.write(f\"\\\\subsection{{{plant.Name}}}\" + \"\\n\")\n",
    "        habitats_possible = [\"Forest\", \"Plains\", \"Mountain\", \"Cave\", \"Coast\"]\n",
    "        habitats_mask = [plant.Forest, plant.Plains, plant.Mountain, plant.Cave, plant.Coast]\n",
    "        habitats = [habitats_possible[i] for i in range(5) if habitats_mask[i]]\n",
    "        f.write(f\"\\\\small\\\\emph{{{', '.join(habitats)}}} \\n\")\n",
    "        if plant.Event is not None:\n",
    "            f.write(f\"\\\\paragraph{{Encounter}}\" + \"\\n\")\n",
    "            f.write(f\"{plant.Event}\" + \"\\n\")\n",
    "        if plant.t1a is not None:\n",
    "            f.write(f\"\\\\paragraph{{{plant.t1a}}}\" + \"\\n\")\n",
    "            f.write(f\"{plant.t1b}\" + \"\\n\")\n",
    "        elif plant.t1b is not None:\n",
    "            f.write(f\"\\\\noindent\" + \"\\n\")\n",
    "            f.write(f\"{plant.t1b}\" + \"\\n\")\n",
    "        if plant.t2a is not None:\n",
    "            f.write(f\"\\\\paragraph{{{plant.t2a}}}\" + \"\\n\")\n",
    "            f.write(f\"{plant.t2b}\" + \"\\n\")\n",
    "        if plant.Flavour is not None:\n",
    "            f.write(f\"\\\\begin{{DndReadAloud}}\"+\"\\n\")\n",
    "            f.write(f\"{plant.Flavour}\" + \"\\n\")\n",
    "            f.write(f\"\\\\end{{DndReadAloud}}\"+\"\\n\")\n",
    "        f.write(\"\\n\")\n",
    "f.close()    "
   ]
  },
  {
   "cell_type": "code",
   "execution_count": 74,
   "id": "64b0d61c-007b-45ee-808c-9f0989be0863",
   "metadata": {},
   "outputs": [],
   "source": [
    "section = plants[plants.Profficiency==0]"
   ]
  },
  {
   "cell_type": "code",
   "execution_count": 75,
   "id": "10d72dc3-3593-4f09-8521-23c92e6ce0c5",
   "metadata": {},
   "outputs": [],
   "source": [
    "plant = section.iloc[1]"
   ]
  },
  {
   "cell_type": "code",
   "execution_count": 77,
   "id": "a7180c28-70f2-4651-b071-c898b4b41c46",
   "metadata": {},
   "outputs": [
    {
     "data": {
      "text/plain": [
       "'   '"
      ]
     },
     "execution_count": 77,
     "metadata": {},
     "output_type": "execute_result"
    }
   ],
   "source": [
    "plant.Event"
   ]
  },
  {
   "cell_type": "code",
   "execution_count": 70,
   "id": "211f3fd0-15a1-4273-95b7-4394d96b05ae",
   "metadata": {},
   "outputs": [
    {
     "data": {
      "text/plain": [
       "True"
      ]
     },
     "execution_count": 70,
     "metadata": {},
     "output_type": "execute_result"
    }
   ],
   "source": [
    "plant.Event is None"
   ]
  },
  {
   "cell_type": "code",
   "execution_count": 34,
   "id": "d2906a73-2eec-45d5-a893-e503c094b1aa",
   "metadata": {},
   "outputs": [
    {
     "data": {
      "text/plain": [
       "'\\\\section{6}'"
      ]
     },
     "execution_count": 34,
     "metadata": {},
     "output_type": "execute_result"
    }
   ],
   "source": [
    "f\"\\\\section{{{prof}}}\" "
   ]
  }
 ],
 "metadata": {
  "kernelspec": {
   "display_name": "Python 3",
   "language": "python",
   "name": "python3"
  },
  "language_info": {
   "codemirror_mode": {
    "name": "ipython",
    "version": 3
   },
   "file_extension": ".py",
   "mimetype": "text/x-python",
   "name": "python",
   "nbconvert_exporter": "python",
   "pygments_lexer": "ipython3",
   "version": "3.8.7"
  }
 },
 "nbformat": 4,
 "nbformat_minor": 5
}
