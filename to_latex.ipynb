{
 "cells": [
  {
   "cell_type": "code",
   "execution_count": 1,
   "id": "afe4bdc9-c3e5-4ac6-b7f6-7e78428a65fa",
   "metadata": {},
   "outputs": [],
   "source": [
    "import pandas as pd"
   ]
  },
  {
   "cell_type": "code",
   "execution_count": 2,
   "id": "a0ff0200-3506-4b8d-8bd5-64dc3f40b53b",
   "metadata": {},
   "outputs": [],
   "source": [
    "plants = pd.read_csv(\"plant_list.csv\", sep=\";\")\n",
    "plants = plants.where(pd.notnull(plants), None)"
   ]
  },
  {
   "cell_type": "code",
   "execution_count": 3,
   "id": "64a41315-dc2c-4bde-8ca4-ccf9a1c2f6f2",
   "metadata": {},
   "outputs": [],
   "source": [
    "plants.Event = plants.Event.apply(lambda x: x.strip() if type(x)==str else x)\n",
    "plants.Event = plants.Event.apply(lambda x: None if type(x)==str and len(x)==0 else x)"
   ]
  },
  {
   "cell_type": "code",
   "execution_count": 4,
   "id": "cb2e5a36-50b7-43a2-a8fe-1ee0afe599b0",
   "metadata": {},
   "outputs": [],
   "source": [
    "def format_text(cond):\n",
    "    if cond is None:\n",
    "        return cond\n",
    "    cond = cond.strip()\n",
    "    if len(cond)==0:\n",
    "        return cond\n",
    "    cond = list(cond)\n",
    "    if cond[-1]==\".\":\n",
    "        cond[-1]=\"\"\n",
    "    #else:\n",
    "    #    cond +=[\":\"]\n",
    "    cond = \"\".join(cond)\n",
    "    cond = cond.replace(\".\",\",\")\n",
    "    cons = cond.replace(\":\",\"\")\n",
    "    return cond"
   ]
  },
  {
   "cell_type": "code",
   "execution_count": 5,
   "id": "315dac65-f741-4458-a1e1-31aa38fd6da8",
   "metadata": {},
   "outputs": [],
   "source": [
    "plants[\"t2a\"] = plants[\"t2a\"].apply(format_text)\n",
    "plants[\"t1a\"] = plants[\"t1a\"].apply(format_text)"
   ]
  },
  {
   "cell_type": "code",
   "execution_count": 6,
   "id": "25981ca4-d586-4806-a46a-6131c16a28f9",
   "metadata": {},
   "outputs": [],
   "source": [
    "profs = plants.Profficiency.unique()"
   ]
  },
  {
   "cell_type": "code",
   "execution_count": 16,
   "id": "0ade1c38-2741-40fd-b73e-6064e8c5612b",
   "metadata": {},
   "outputs": [
    {
     "data": {
      "text/plain": [
       "Name                                                Warmth-Seeker\n",
       "Profficiency                                                    2\n",
       "Arid                                                        False\n",
       "Arctic                                                       True\n",
       "Forest                                                      False\n",
       "Plains                                                      False\n",
       "Mountain                                                    False\n",
       "Cave                                                        False\n",
       "Coast                                                       False\n",
       "t1a                                                          None\n",
       "t1b             This flower always grows turned to the nearest...\n",
       "t2a                                                          None\n",
       "t2b                                                          None\n",
       "Image                                                  warmth.jpg\n",
       "Flavour         It doesn't point north, but you are not trying...\n",
       "Event                                                        None\n",
       "Source          Retro Lenses, https://commons.wikimedia.org/wi...\n",
       "Unnamed: 17                                                  None\n",
       "Name: 70, dtype: object"
      ]
     },
     "execution_count": 16,
     "metadata": {},
     "output_type": "execute_result"
    }
   ],
   "source": [
    "plants.iloc[70]"
   ]
  },
  {
   "cell_type": "code",
   "execution_count": 7,
   "id": "c8e88bef-c26a-45ed-b6a6-a0e9aba88b3e",
   "metadata": {},
   "outputs": [],
   "source": [
    "with open('latex_preamble.txt', 'r') as file:\n",
    "    data = file.read()"
   ]
  },
  {
   "cell_type": "code",
   "execution_count": 18,
   "id": "5bcce0bc-1054-461f-8b85-13e3d8b1b6b2",
   "metadata": {},
   "outputs": [
    {
     "data": {
      "text/plain": [
       "True"
      ]
     },
     "execution_count": 18,
     "metadata": {},
     "output_type": "execute_result"
    }
   ],
   "source": [
    "plant.Tropics"
   ]
  },
  {
   "cell_type": "code",
   "execution_count": null,
   "id": "fc14d1ad-639f-4b16-ade7-9de99c609cff",
   "metadata": {},
   "outputs": [],
   "source": []
  },
  {
   "cell_type": "code",
   "execution_count": 70,
   "id": "62085c1e-6eb7-41f2-ad31-c9e3999ee355",
   "metadata": {},
   "outputs": [],
   "source": [
    "\n",
    "f = open(\"plants_latex.txt\", \"w\")\n",
    "f.write(data)\n",
    "for prof in profs:\n",
    "    f.write(f\"\\\\section{{Proficiency +{prof}}}\" + \"\\n\")\n",
    "    f.write(\"\\n\")\n",
    "    f.write(\"\\n\")\n",
    "    section = plants[plants.Profficiency==prof]\n",
    "    section = section.sort_values(by=\"Name\")\n",
    "    for i, plant in section.iterrows():\n",
    "        # f.write(\"\\\\noindent\")\n",
    "        f.write(\"\\\\begin{samepage}\\n\")\n",
    "        f.write(f\"\\\\subsection{{{plant.Name}}}\" + \"\\n\")\n",
    "        habitats_possible = [\"Arid\",\"Arctic\", \"Forest\", \"Plains\", \"Mountain\", \"Cave\", \"Coast\", \"Tropics\", \"Urban\"]\n",
    "        habitats_mask = [plant.Arid,plant.Arctic, plant.Forest, plant.Plains, plant.Mountain, plant.Cave, plant.Coast, plant.Tropics, plant.Urban]\n",
    "        habitats = [habitats_possible[i] for i in range(9) if habitats_mask[i]]\n",
    "        f.write(f\"\\\\small\\\\emph{{{', '.join(habitats)}}} \\\\\\\\ \\n\")\n",
    "        if plant.Event is not None:\n",
    "            f.write(f\"\\\\paragraph{{Encounter}}\" + \"\\n\")\n",
    "            f.write(f\"{plant.Event}\" + \"\\n\")\n",
    "        #if plant.t1a is None: \n",
    "        #    f.write(f\"\\\\\\\\\" + \"\\n\")\n",
    "        if plant.t1a is not None:\n",
    "            f.write(f\"\\\\paragraph{{{plant.t1a}}}\" + \"\\n\")\n",
    "            f.write(f\"{plant.t1b}\" + \"\\n\")\n",
    "        elif plant.t1b is not None:\n",
    "            f.write(f\"\\\\noindent\" + \"\\n\")\n",
    "            f.write(f\"{plant.t1b}\" + \"\\n\")\n",
    "        if plant.t2a is not None:\n",
    "            f.write(f\"\\\\paragraph{{{plant.t2a}}}\" + \"\\n\")\n",
    "            f.write(f\"{plant.t2b}\" + \"\\n\")\n",
    "        if plant.Flavour is not None:\n",
    "            f.write(f\"\\\\begin{{DndReadAloud}}\"+\"\\n\")\n",
    "            f.write(f\"{plant.Flavour}\" + \"\\n\")\n",
    "            f.write(f\"\\\\end{{DndReadAloud}}\"+\"\\n\")\n",
    "        f.write(\"\\\\end{samepage} \\n\")\n",
    "        f.write(\"\\n\")\n",
    "\n"
   ]
  },
  {
   "cell_type": "code",
   "execution_count": 21,
   "id": "430451da-5885-4891-bca5-7c3e64a8d86b",
   "metadata": {},
   "outputs": [],
   "source": [
    "\n",
    "import itertools\n",
    "import pandas as pd\n",
    "import math"
   ]
  },
  {
   "cell_type": "code",
   "execution_count": 57,
   "id": "31cfc3b0-d1d1-4916-b0b1-3aa8c8d55d3b",
   "metadata": {},
   "outputs": [],
   "source": [
    "def dice_combinations(n):\n",
    "    dice = [20, 12, 8, 6, 4]\n",
    "    combinations = []\n",
    "    \n",
    "    for r in range(1, len(dice) + 1):\n",
    "        for c in itertools.combinations_with_replacement(dice, r):\n",
    "            if sum(c) >= n + r - 1:\n",
    "                combinations.append(c)\n",
    "    \n",
    "    # Sort the combinations by the total sum, number of dice used, and the dice values\n",
    "    combinations.sort(key=lambda x: (sum(x), len(x), x))\n",
    "\n",
    "    # Filter combinations to prioritize using the largest dice possible\n",
    "    filtered_combinations = []\n",
    "    for c in combinations:\n",
    "        if not any(set(c) < set(smaller_combination) for smaller_combination in combinations if sum(smaller_combination) == sum(c)):\n",
    "            filtered_combinations.append(c)\n",
    "\n",
    "    return filtered_combinations[0]"
   ]
  },
  {
   "cell_type": "code",
   "execution_count": 63,
   "id": "97a8e399-69c2-499d-9412-4579a8562670",
   "metadata": {},
   "outputs": [],
   "source": [
    "\n",
    "\n",
    "\n",
    "def generate_latex(df):\n",
    "    latex_output = \"\\\\newpage\\n\\\\section*{Roll Tables}\\n\"\n",
    "\n",
    "    latex_output += \"\"\"This project is designed for use with the online generator (https://www.dungeonsandplants.net/). \n",
    "    For offline games, utilize one of the generated roll tables. Each terrain/proficiency features its own table, \n",
    "    so choose and print the most suitable one for your current level and location. \n",
    "    \\n \\n \n",
    "    Some tables require you to roll multiple dice, in this cases not all plants are found with equal probability. \n",
    "    The abundance of tables makes the system somewhat cumbersome, so a more streamlined version is currently under development.\n",
    "    \"\"\"\n",
    "    \n",
    "    for habitat in [\"Arid\",\"Arctic\", \"Forest\", \"Plains\", \"Mountain\", \"Cave\", \"Coast\", \"Tropics\", \"Urban\"]:\n",
    "        habitat_group = df[df[habitat]]\n",
    "        \n",
    "        for proficiency in [0,2,3,4,5,6]:\n",
    "            proficiency_group = habitat_group[habitat_group.Profficiency <= proficiency]\n",
    "            latex_output += \"\\\\subsection*{\" + habitat + \" \" + str(proficiency) +\"}\\n\"\n",
    "            # latex_output += \"\\\\subsubsection*{\" + str(proficiency) + \"}\\n\"\n",
    "\n",
    "            plants = proficiency_group[\"Name\"].tolist()\n",
    "            dice = dice_combinations(len(plants))\n",
    "            total_outcomes = sum(dice)\n",
    "\n",
    "            # print(plants, dice, total_outcomes)\n",
    "            \n",
    "            latex_output += \"\\\\begin{DndTable}[color=PhbLightCyan]{cX}\\n\"\n",
    "            latex_output += \"  \\\\textbf{\" + \"/\".join([\"d\" + str(d) for d in dice]) + \"} & \\\\textbf{Item} \\\\\\\\\\n\"\n",
    "\n",
    "            min_outcome = len(dice)\n",
    "            skip_num = (total_outcomes - min_outcome + 1) - len(plants)\n",
    "            outcome = min_outcome\n",
    "            for _ in range(skip_num):\n",
    "                latex_output += \"  \" + str(outcome) + \" & No plant found \\\\\\\\\\n\"\n",
    "                outcome += 1\n",
    "            for i, plant in enumerate(plants):\n",
    "                latex_output += \"  \" + str(outcome) + \" & \" + plant + \" \\\\\\\\\\n\"\n",
    "                outcome += 1\n",
    "\n",
    "            latex_output += \"\\\\end{DndTable}\\n\"\n",
    "\n",
    "    return latex_output"
   ]
  },
  {
   "cell_type": "code",
   "execution_count": 65,
   "id": "5daf1792-6eb7-4bb7-b2a8-b32b25f7a477",
   "metadata": {},
   "outputs": [],
   "source": [
    "roll_list = generate_latex(plants)"
   ]
  },
  {
   "cell_type": "code",
   "execution_count": 71,
   "id": "dac9b2bb-a0e2-460f-814e-0cc14e2b6baa",
   "metadata": {},
   "outputs": [],
   "source": [
    "f.write(roll_list)\n",
    "f.write(\"\\\\end{document}\")\n",
    "f.close()    "
   ]
  },
  {
   "cell_type": "code",
   "execution_count": null,
   "id": "c20275f9-837f-4922-9ee6-3a63305cc2e2",
   "metadata": {},
   "outputs": [],
   "source": []
  }
 ],
 "metadata": {
  "kernelspec": {
   "display_name": "Python 3 (ipykernel)",
   "language": "python",
   "name": "python3"
  },
  "language_info": {
   "codemirror_mode": {
    "name": "ipython",
    "version": 3
   },
   "file_extension": ".py",
   "mimetype": "text/x-python",
   "name": "python",
   "nbconvert_exporter": "python",
   "pygments_lexer": "ipython3",
   "version": "3.10.6"
  }
 },
 "nbformat": 4,
 "nbformat_minor": 5
}
