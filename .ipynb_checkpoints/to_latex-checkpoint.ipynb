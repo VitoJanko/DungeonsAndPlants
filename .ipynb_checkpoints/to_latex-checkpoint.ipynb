{
 "cells": [
  {
   "cell_type": "code",
   "execution_count": 68,
   "id": "afe4bdc9-c3e5-4ac6-b7f6-7e78428a65fa",
   "metadata": {},
   "outputs": [],
   "source": [
    "import pandas as pd"
   ]
  },
  {
   "cell_type": "code",
   "execution_count": 69,
   "id": "a0ff0200-3506-4b8d-8bd5-64dc3f40b53b",
   "metadata": {},
   "outputs": [],
   "source": [
    "plants = pd.read_csv(\"plant_list.csv\", sep=\";\")\n",
    "plants = plants.where(pd.notnull(plants), None)"
   ]
  },
  {
   "cell_type": "code",
   "execution_count": 70,
   "id": "64a41315-dc2c-4bde-8ca4-ccf9a1c2f6f2",
   "metadata": {},
   "outputs": [],
   "source": [
    "plants.Event = plants.Event.apply(lambda x: x.strip() if type(x)==str else x)\n",
    "plants.Event = plants.Event.apply(lambda x: None if type(x)==str and len(x)==0 else x)"
   ]
  },
  {
   "cell_type": "code",
   "execution_count": 71,
   "id": "cb2e5a36-50b7-43a2-a8fe-1ee0afe599b0",
   "metadata": {},
   "outputs": [],
   "source": [
    "def format_text(cond):\n",
    "    if cond is None:\n",
    "        return cond\n",
    "    cond = cond.strip()\n",
    "    if len(cond)==0:\n",
    "        return cond\n",
    "    cond = list(cond)\n",
    "    if cond[-1]==\".\":\n",
    "        cond[-1]=\"\"\n",
    "    #else:\n",
    "    #    cond +=[\":\"]\n",
    "    cond = \"\".join(cond)\n",
    "    cond = cond.replace(\".\",\",\")\n",
    "    cons = cond.replace(\":\",\"\")\n",
    "    return cond"
   ]
  },
  {
   "cell_type": "code",
   "execution_count": 72,
   "id": "315dac65-f741-4458-a1e1-31aa38fd6da8",
   "metadata": {},
   "outputs": [],
   "source": [
    "plants[\"t2a\"] = plants[\"t2a\"].apply(format_text)\n",
    "plants[\"t1a\"] = plants[\"t1a\"].apply(format_text)"
   ]
  },
  {
   "cell_type": "code",
   "execution_count": 73,
   "id": "25981ca4-d586-4806-a46a-6131c16a28f9",
   "metadata": {},
   "outputs": [],
   "source": [
    "profs = plants.Profficiency.unique()"
   ]
  },
  {
   "cell_type": "code",
   "execution_count": 74,
   "id": "0ade1c38-2741-40fd-b73e-6064e8c5612b",
   "metadata": {},
   "outputs": [
    {
     "data": {
      "text/plain": [
       "Name                                                Warmth-Seeker\n",
       "Profficiency                                                    2\n",
       "Arctic                                                       True\n",
       "Forest                                                      False\n",
       "Plains                                                      False\n",
       "Mountain                                                    False\n",
       "Cave                                                        False\n",
       "Coast                                                       False\n",
       "t1a                                                          None\n",
       "t1b             This flower always grows turned to the nearest...\n",
       "t2a                                                          None\n",
       "t2b                                                          None\n",
       "Image                                                  warmth.jpg\n",
       "Flavour         It doesn't point north, but you are not trying...\n",
       "Event                                                        None\n",
       "Source          Retro Lenses, https://commons.wikimedia.org/wi...\n",
       "Unnamed: 16                                                  None\n",
       "Name: 70, dtype: object"
      ]
     },
     "execution_count": 74,
     "metadata": {},
     "output_type": "execute_result"
    }
   ],
   "source": [
    "plants.iloc[70]"
   ]
  },
  {
   "cell_type": "code",
   "execution_count": 75,
   "id": "c8e88bef-c26a-45ed-b6a6-a0e9aba88b3e",
   "metadata": {},
   "outputs": [],
   "source": [
    "with open('latex_preamble.txt', 'r') as file:\n",
    "    data = file.read()"
   ]
  },
  {
   "cell_type": "code",
   "execution_count": 78,
   "id": "62085c1e-6eb7-41f2-ad31-c9e3999ee355",
   "metadata": {},
   "outputs": [],
   "source": [
    "\n",
    "f = open(\"plants_latex.txt\", \"w\")\n",
    "f.write(data)\n",
    "for prof in profs:\n",
    "    f.write(f\"\\\\section{{Proficiency +{prof}}}\" + \"\\n\")\n",
    "    f.write(\"\\n\")\n",
    "    f.write(\"\\n\")\n",
    "    section = plants[plants.Profficiency==prof]\n",
    "    for i, plant in section.iterrows():\n",
    "        #f.write(\"\\\\noindent\")\n",
    "        #f.write(\"\\\\begin{minipage}{0.45\\\\textwidth} \\n\")\n",
    "        f.write(f\"\\\\subsection{{{plant.Name}}}\" + \"\\n\")\n",
    "        habitats_possible = [\"Arctic\", \"Forest\", \"Plains\", \"Mountain\", \"Cave\", \"Coast\"]\n",
    "        habitats_mask = [plant.Arctic, plant.Forest, plant.Plains, plant.Mountain, plant.Cave, plant.Coast]\n",
    "        habitats = [habitats_possible[i] for i in range(6) if habitats_mask[i]]\n",
    "        f.write(f\"\\\\small\\\\emph{{{', '.join(habitats)}}} \\\\\\\\ \\n\")\n",
    "        if plant.Event is not None:\n",
    "            f.write(f\"\\\\paragraph{{Encounter}}\" + \"\\n\")\n",
    "            f.write(f\"{plant.Event}\" + \"\\n\")\n",
    "        #if plant.t1a is None: \n",
    "        #    f.write(f\"\\\\\\\\\" + \"\\n\")\n",
    "        if plant.t1a is not None:\n",
    "            f.write(f\"\\\\paragraph{{{plant.t1a}}}\" + \"\\n\")\n",
    "            f.write(f\"{plant.t1b}\" + \"\\n\")\n",
    "        elif plant.t1b is not None:\n",
    "            f.write(f\"\\\\noindent\" + \"\\n\")\n",
    "            f.write(f\"{plant.t1b}\" + \"\\n\")\n",
    "        if plant.t2a is not None:\n",
    "            f.write(f\"\\\\paragraph{{{plant.t2a}}}\" + \"\\n\")\n",
    "            f.write(f\"{plant.t2b}\" + \"\\n\")\n",
    "        if plant.Flavour is not None:\n",
    "            f.write(f\"\\\\begin{{DndReadAloud}}\"+\"\\n\")\n",
    "            f.write(f\"{plant.Flavour}\" + \"\\n\")\n",
    "            f.write(f\"\\\\end{{DndReadAloud}}\"+\"\\n\")\n",
    "        #f.write(\"\\\\end{minipage} \\n\")\n",
    "        f.write(\"\\n\")\n",
    "f.write(\"\\\\end{document}\")\n",
    "f.close()    "
   ]
  },
  {
   "cell_type": "code",
   "execution_count": null,
   "id": "97a8e399-69c2-499d-9412-4579a8562670",
   "metadata": {},
   "outputs": [],
   "source": []
  }
 ],
 "metadata": {
  "kernelspec": {
   "display_name": "Python 3",
   "language": "python",
   "name": "python3"
  },
  "language_info": {
   "codemirror_mode": {
    "name": "ipython",
    "version": 3
   },
   "file_extension": ".py",
   "mimetype": "text/x-python",
   "name": "python",
   "nbconvert_exporter": "python",
   "pygments_lexer": "ipython3",
   "version": "3.8.7"
  }
 },
 "nbformat": 4,
 "nbformat_minor": 5
}
